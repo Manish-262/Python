{
 "cells": [
  {
   "cell_type": "code",
   "execution_count": null,
   "metadata": {},
   "outputs": [],
   "source": [
    "import cv2\n",
    "\n",
    "# Create a VideoCapture object to access the webcam\n",
    "cap = cv2.VideoCapture(0)\n",
    "\n",
    "# Check if the webcam is opened successfully\n",
    "if not cap.isOpened():\n",
    "    print(\"Failed to open webcam\")\n",
    "    exit()\n",
    "\n",
    "# Read a frame from the webcam\n",
    "ret, frame = cap.read()\n",
    "\n",
    "# Check if the frame is successfully read\n",
    "if not ret:\n",
    "    print(\"Failed to capture frame from webcam\")\n",
    "    exit()\n",
    "\n",
    "# Display the captured image\n",
    "cv2.imshow(\"Captured Image\", frame)\n",
    "\n",
    "# Save the captured image to a file\n",
    "cv2.imwrite(\"captured_image.jpg\", frame)\n",
    "\n",
    "# Wait for a key press to exit\n",
    "cv2.waitKey(0)\n",
    "\n",
    "# Release the VideoCapture object and close the window\n",
    "cap.release()\n",
    "cv2.destroyAllWindows()"
   ]
  }
 ],
 "metadata": {
  "language_info": {
   "name": "python"
  },
  "orig_nbformat": 4
 },
 "nbformat": 4,
 "nbformat_minor": 2
}
